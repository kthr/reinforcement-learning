{
 "cells": [
  {
   "cell_type": "code",
   "execution_count": 1,
   "metadata": {},
   "outputs": [],
   "source": [
    "using Match"
   ]
  },
  {
   "cell_type": "code",
   "execution_count": 2,
   "metadata": {},
   "outputs": [],
   "source": [
    "mutable struct Player\n",
    "    name::String\n",
    "    previousMove::Array{String,1}\n",
    "    valueFunction::Dict\n",
    "    symbol::String\n",
    "    totalWins::Int32\n",
    "end"
   ]
  },
  {
   "cell_type": "code",
   "execution_count": 3,
   "metadata": {},
   "outputs": [
    {
     "data": {
      "text/plain": [
       "Player(\"player2\", [\"-\", \"-\", \"-\", \"-\", \"-\", \"-\", \"-\", \"-\", \"-\"], Dict([\"-\", \"-\", \"-\", \"-\", \"-\", \"-\", \"-\", \"-\", \"-\"]=>0.5), \"x\", 0)"
      ]
     },
     "execution_count": 3,
     "metadata": {},
     "output_type": "execute_result"
    }
   ],
   "source": [
    "initialState = [\"-\",\"-\",\"-\",\"-\",\"-\",\"-\",\"-\",\"-\",\"-\"]\n",
    "player1=Player(\"player1\", initialState, Dict([(initialState,0.5)]),\"o\",0)\n",
    "player2=Player(\"player2\", initialState, Dict([(initialState,0.5)]),\"x\",0)"
   ]
  },
  {
   "cell_type": "code",
   "execution_count": 4,
   "metadata": {},
   "outputs": [
    {
     "data": {
      "text/plain": [
       "possibleMoves (generic function with 1 method)"
      ]
     },
     "execution_count": 4,
     "metadata": {},
     "output_type": "execute_result"
    }
   ],
   "source": [
    "function possibleMoves(state, player)\n",
    "    moves=[]\n",
    "    for i in 1:length(state)\n",
    "        if state[i]==\"-\"      \n",
    "            move=copy(state)\n",
    "            move[i]=player.symbol\n",
    "            push!(moves, move)\n",
    "        end\n",
    "    end\n",
    "    return moves\n",
    "end      "
   ]
  },
  {
   "cell_type": "code",
   "execution_count": 5,
   "metadata": {},
   "outputs": [
    {
     "data": {
      "text/plain": [
       "isWinningMove (generic function with 1 method)"
      ]
     },
     "execution_count": 5,
     "metadata": {},
     "output_type": "execute_result"
    }
   ],
   "source": [
    "function isWinningMove(state, player)\n",
    "    symbol=player.symbol\n",
    "    stateMatrix=reshape(state.==symbol,(3,3))\n",
    "    @match(stateMatrix,[h1,h2,h3])\n",
    "    @match(stateMatrix,[v1 v2 v3])\n",
    "    d1=state[[1,5,9]].==symbol\n",
    "    d2=state[[3,5,7]].==symbol\n",
    "    return any(map(all,[h1,h2,h3,v1,v2,v3,d1,d2]))\n",
    "end"
   ]
  },
  {
   "cell_type": "code",
   "execution_count": 6,
   "metadata": {},
   "outputs": [
    {
     "data": {
      "text/plain": [
       "playRound (generic function with 2 methods)"
      ]
     },
     "execution_count": 6,
     "metadata": {},
     "output_type": "execute_result"
    }
   ],
   "source": [
    "function playRound(state, player, exploration=0.05)\n",
    "    moves=possibleMoves(state,player)\n",
    "    if length(moves) == 0\n",
    "        return nothing\n",
    "    end\n",
    "    costs=[]\n",
    "    for m in moves\n",
    "        if haskey(player.valueFunction, m)\n",
    "            push!(costs,player.valueFunction[m])\n",
    "        else\n",
    "            if isWinningMove(m, player)\n",
    "                player.valueFunction[m]=1. \n",
    "                push!(costs,1.)\n",
    "            else\n",
    "                player.valueFunction[m]=.5 \n",
    "                push!(costs,.5)\n",
    "            end\n",
    "        end\n",
    "    end\n",
    "    if rand()<exploration\n",
    "        println(\"Exploring...\")\n",
    "        next=rand(moves)\n",
    "    else\n",
    "        next=moves[argmax(costs)]\n",
    "    end\n",
    "    println(\"It's playing \", player.name, \" the move \", next)\n",
    "    return next\n",
    "end"
   ]
  },
  {
   "cell_type": "code",
   "execution_count": 14,
   "metadata": {},
   "outputs": [
    {
     "data": {
      "text/plain": [
       "play (generic function with 4 methods)"
      ]
     },
     "execution_count": 14,
     "metadata": {},
     "output_type": "execute_result"
    }
   ],
   "source": [
    "function play(player1, player2, alpha=0.005, exploration=0.5, player1Starts=true)\n",
    "    current = initialState\n",
    "    switchPlayer = player1Starts\n",
    "    player = switchPlayer ? player1 : player2\n",
    "    switchPlayer = !switchPlayer\n",
    "    while true\n",
    "        next = playRound(current, player, exploration)\n",
    "        if next != nothing\n",
    "            player.valueFunction[player.previousMove] = player.valueFunction[player.previousMove] + alpha*(player.valueFunction[next] - player.valueFunction[player.previousMove])\n",
    "            player.previousMove = next\n",
    "            player = switchPlayer ? player1 : player2\n",
    "            switchPlayer = !switchPlayer\n",
    "            current=next\n",
    "            if isWinningMove(current, player1)\n",
    "                player1.totalWins+=1\n",
    "                player2.valueFunction[current]=0.\n",
    "                player2.valueFunction[player2.previousMove] = player2.valueFunction[player2.previousMove] + alpha*(player2.valueFunction[current] - player2.valueFunction[player2.previousMove])\n",
    "                println(\"Player \", player1.name, \" wins!\\n\")\n",
    "                break\n",
    "            elseif isWinningMove(current, player2)\n",
    "                player2.totalWins+=1\n",
    "                player1.valueFunction[current]=0.\n",
    "                player1.valueFunction[player1.previousMove] = player1.valueFunction[player1.previousMove] + alpha*(player1.valueFunction[current] - player1.valueFunction[player1.previousMove])\n",
    "                println(\"Player \", player2.name, \" wins!\\n\")\n",
    "                break\n",
    "            end\n",
    "        else\n",
    "            println(\"No one wins!\\n\")\n",
    "            break\n",
    "        end\n",
    "    end\n",
    "end"
   ]
  },
  {
   "cell_type": "code",
   "execution_count": 38,
   "metadata": {},
   "outputs": [
    {
     "name": "stdout",
     "output_type": "stream",
     "text": [
      "Exploring...\n",
      "It's playing player1 the move [\"-\", \"-\", \"-\", \"-\", \"o\", \"-\", \"-\", \"-\", \"-\"]\n",
      "It's playing player2 the move [\"-\", \"-\", \"x\", \"-\", \"o\", \"-\", \"-\", \"-\", \"-\"]\n",
      "It's playing player1 the move [\"-\", \"o\", \"x\", \"-\", \"o\", \"-\", \"-\", \"-\", \"-\"]\n",
      "It's playing player2 the move [\"-\", \"o\", \"x\", \"-\", \"o\", \"-\", \"-\", \"x\", \"-\"]\n",
      "Exploring...\n",
      "It's playing player1 the move [\"-\", \"o\", \"x\", \"-\", \"o\", \"-\", \"o\", \"x\", \"-\"]\n",
      "It's playing player2 the move [\"-\", \"o\", \"x\", \"-\", \"o\", \"x\", \"o\", \"x\", \"-\"]\n",
      "It's playing player1 the move [\"-\", \"o\", \"x\", \"-\", \"o\", \"x\", \"o\", \"x\", \"o\"]\n",
      "It's playing player2 the move [\"x\", \"o\", \"x\", \"-\", \"o\", \"x\", \"o\", \"x\", \"o\"]\n",
      "Exploring...\n",
      "It's playing player1 the move [\"x\", \"o\", \"x\", \"o\", \"o\", \"x\", \"o\", \"x\", \"o\"]\n",
      "No one wins!\n",
      "\n",
      "Total wins player1: 529 | Total wins player2: 186\n"
     ]
    }
   ],
   "source": [
    "for i in 1:1000\n",
    "    play(player1, player2, 0.25, .25, true)\n",
    "    println(\"Total wins \", player1.name, \": \", player1.totalWins,\" | \", \"Total wins \", player2.name, \": \", player2.totalWins)\n",
    "    #sleep(.1)\n",
    "    IJulia.clear_output(true)\n",
    "end"
   ]
  },
  {
   "cell_type": "code",
   "execution_count": 37,
   "metadata": {},
   "outputs": [
    {
     "data": {
      "text/plain": [
       "0"
      ]
     },
     "execution_count": 37,
     "metadata": {},
     "output_type": "execute_result"
    }
   ],
   "source": [
    "player1.totalWins=0\n",
    "player2.totalWins=0"
   ]
  },
  {
   "cell_type": "code",
   "execution_count": 42,
   "metadata": {},
   "outputs": [
    {
     "name": "stdout",
     "output_type": "stream",
     "text": [
      "It's playing player1 the move [\"-\", \"-\", \"-\", \"-\", \"o\", \"-\", \"-\", \"-\", \"-\"]\n",
      "It's playing player2 the move [\"-\", \"-\", \"x\", \"-\", \"o\", \"-\", \"-\", \"-\", \"-\"]\n",
      "It's playing player1 the move [\"-\", \"o\", \"x\", \"-\", \"o\", \"-\", \"-\", \"-\", \"-\"]\n",
      "It's playing player2 the move [\"-\", \"o\", \"x\", \"-\", \"o\", \"-\", \"-\", \"x\", \"-\"]\n",
      "It's playing player1 the move [\"-\", \"o\", \"x\", \"-\", \"o\", \"o\", \"-\", \"x\", \"-\"]\n",
      "It's playing player2 the move [\"-\", \"o\", \"x\", \"x\", \"o\", \"o\", \"-\", \"x\", \"-\"]\n",
      "It's playing player1 the move [\"-\", \"o\", \"x\", \"x\", \"o\", \"o\", \"-\", \"x\", \"o\"]\n",
      "It's playing player2 the move [\"x\", \"o\", \"x\", \"x\", \"o\", \"o\", \"-\", \"x\", \"o\"]\n",
      "It's playing player1 the move [\"x\", \"o\", \"x\", \"x\", \"o\", \"o\", \"o\", \"x\", \"o\"]\n",
      "No one wins!\n",
      "\n"
     ]
    }
   ],
   "source": [
    "play(player1, player2, 0.1, .0, true)"
   ]
  },
  {
   "cell_type": "code",
   "execution_count": null,
   "metadata": {},
   "outputs": [],
   "source": []
  }
 ],
 "metadata": {
  "kernelspec": {
   "display_name": "Julia 1.0.0",
   "language": "julia",
   "name": "julia-1.0"
  },
  "language_info": {
   "file_extension": ".jl",
   "mimetype": "application/julia",
   "name": "julia",
   "version": "1.0.0"
  }
 },
 "nbformat": 4,
 "nbformat_minor": 4
}
