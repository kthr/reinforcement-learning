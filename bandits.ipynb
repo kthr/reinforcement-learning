{
 "cells": [
  {
   "cell_type": "code",
   "execution_count": 1,
   "metadata": {},
   "outputs": [],
   "source": [
    "using Distributions"
   ]
  },
  {
   "cell_type": "code",
   "execution_count": 2,
   "metadata": {},
   "outputs": [],
   "source": [
    "mutable struct kBandits\n",
    "    nBandits::Integer\n",
    "    meanReward::Array{Float64,1}\n",
    "    variance::Array{Float64,1}\n",
    "end"
   ]
  },
  {
   "cell_type": "code",
   "execution_count": 3,
   "metadata": {},
   "outputs": [
    {
     "data": {
      "text/plain": [
       "createNBandits (generic function with 2 methods)"
      ]
     },
     "execution_count": 3,
     "metadata": {},
     "output_type": "execute_result"
    }
   ],
   "source": [
    "function createNBandits(n=10)\n",
    "    bandits=kBandits(n, rand(Normal(), n), fill(1.,10))\n",
    "    return(bandits)\n",
    "end"
   ]
  },
  {
   "cell_type": "code",
   "execution_count": 5,
   "metadata": {},
   "outputs": [
    {
     "data": {
      "text/plain": [
       "kBandits(10, [1.89609, 0.962407, -0.700585, 0.293592, 0.337867, 1.83849, -1.855, 1.37058, 0.521421, -0.961388], [1.0, 1.0, 1.0, 1.0, 1.0, 1.0, 1.0, 1.0, 1.0, 1.0])"
      ]
     },
     "execution_count": 5,
     "metadata": {},
     "output_type": "execute_result"
    }
   ],
   "source": [
    "bandits=createNBandits()"
   ]
  },
  {
   "cell_type": "code",
   "execution_count": 9,
   "metadata": {},
   "outputs": [
    {
     "data": {
      "text/plain": [
       "10-element Array{Float64,1}:\n",
       "  1.0484657763981184 \n",
       "  0.37278933465981456\n",
       " -0.7289634063487087 \n",
       "  0.4330521843522772 \n",
       "  0.6251334248137694 \n",
       "  0.9689643500039976 \n",
       " -0.9045091895805082 \n",
       "  2.365541929522413  \n",
       "  1.699486252664804  \n",
       "  0.42059863617662485"
      ]
     },
     "execution_count": 9,
     "metadata": {},
     "output_type": "execute_result"
    }
   ],
   "source": [
    "map((x,y) -> rand(Normal(x,y)), bandits.meanReward, bandits.variance)"
   ]
  },
  {
   "cell_type": "code",
   "execution_count": 47,
   "metadata": {},
   "outputs": [
    {
     "data": {
      "text/plain": [
       "tdl (generic function with 3 methods)"
      ]
     },
     "execution_count": 47,
     "metadata": {},
     "output_type": "execute_result"
    }
   ],
   "source": [
    "function tdl(bandits::kBandits, rewards; alpha=0.1, epsilon=0.1)\n",
    "    if rand(Uniform())<epsilon\n",
    "        bandit=rand(range(1, length=10))\n",
    "    else\n",
    "        bandit=argmax(rewards)\n",
    "    end\n",
    "    rewards[bandit]=rewards[bandit]+alpha*(rand(Normal(bandits.meanReward[bandit], bandits.variance[bandit]))-rewards[bandit])\n",
    "    return(rewards)\n",
    "end"
   ]
  },
  {
   "cell_type": "code",
   "execution_count": 64,
   "metadata": {},
   "outputs": [],
   "source": [
    "rewards=fill(2.,10)\n",
    "for i in 1:1000\n",
    "    rewards=tdl(bandits, rewards, epsilon=0.1)\n",
    "end"
   ]
  },
  {
   "cell_type": "code",
   "execution_count": 65,
   "metadata": {},
   "outputs": [
    {
     "data": {
      "text/plain": [
       "10-element Array{Float64,1}:\n",
       "  1.8432942847509566\n",
       "  1.1704299341906819\n",
       "  0.8857229558737083\n",
       "  0.7543170590862777\n",
       "  1.2333147069773553\n",
       "  1.5060297024536655\n",
       " -0.4468831233111097\n",
       "  1.2971469228607635\n",
       "  0.9561911202954313\n",
       " -0.3210006713453122"
      ]
     },
     "execution_count": 65,
     "metadata": {},
     "output_type": "execute_result"
    }
   ],
   "source": [
    "rewards"
   ]
  },
  {
   "cell_type": "code",
   "execution_count": 35,
   "metadata": {},
   "outputs": [
    {
     "data": {
      "text/plain": [
       "10-element Array{Float64,1}:\n",
       "  1.8960883828716528 \n",
       "  0.9624074896508055 \n",
       " -0.7005845613419591 \n",
       "  0.29359165735338966\n",
       "  0.33786653728576477\n",
       "  1.8384899722507377 \n",
       " -1.8550002785629343 \n",
       "  1.3705764951004193 \n",
       "  0.5214214730809444 \n",
       " -0.9613875438334923 "
      ]
     },
     "execution_count": 35,
     "metadata": {},
     "output_type": "execute_result"
    }
   ],
   "source": [
    "bandits.meanReward"
   ]
  },
  {
   "cell_type": "code",
   "execution_count": null,
   "metadata": {},
   "outputs": [],
   "source": []
  }
 ],
 "metadata": {
  "kernelspec": {
   "display_name": "Julia 1.0.0",
   "language": "julia",
   "name": "julia-1.0"
  },
  "language_info": {
   "file_extension": ".jl",
   "mimetype": "application/julia",
   "name": "julia",
   "version": "1.0.0"
  }
 },
 "nbformat": 4,
 "nbformat_minor": 4
}
